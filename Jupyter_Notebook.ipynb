{
 "cells": [
  {
   "cell_type": "markdown",
   "metadata": {},
   "source": [
    "<center>\n",
    "    <img src=\"https://cf-courses-data.s3.us.cloud-object-storage.appdomain.cloud/IBMDeveloperSkillsNetwork-DS0105EN-SkillsNetwork/labs/Module2/images/SN_web_lightmode.png\" width=\"300\" alt=\"cognitiveclass.ai logo\">\n",
    "</center>\n"
   ]
  },
  {
   "cell_type": "markdown",
   "metadata": {},
   "source": [
    "#### Add your code below following the instructions given in the course\n"
   ]
  },
  {
   "cell_type": "markdown",
   "metadata": {},
   "source": [
    "2: Title: Final Assignment My NoteBook"
   ]
  },
  {
   "cell_type": "markdown",
   "metadata": {},
   "source": [
    "3: Introduction: This notebook is for final assignement in Tools for Data Science"
   ]
  },
  {
   "cell_type": "markdown",
   "metadata": {},
   "source": [
    "4: Data science languages: Python, R, SQL, Java, Scala, Julia, SAS, MATLAB"
   ]
  },
  {
   "cell_type": "markdown",
   "metadata": {},
   "source": [
    "5: Data science libraries: \\\n",
    "Python\\\n",
    "[\"Pandas\", \"Numpy\", \"Scikit-learn\", \"Matplotlib\", \"Seaborn\", \"Pytorch\", \"TensorFlow\",\" Keras\"] \\\n",
    "R\\\n",
    "[\"ggplot\", \"caret\"]"
   ]
  },
  {
   "cell_type": "markdown",
   "metadata": {},
   "source": [
    "6: Data Science tools\n",
    "\n",
    "| Tool Name         | Use Case                                              | Language/Platform  |\n",
    "|-------------------|-------------------------------------------------------|--------------------|\n",
    "| Jupyter Notebook  | Interactive computing, data analysis, code sharing    | Python/R/others    |\n",
    "| RStudio           | IDE for R, used for statistical computing             | R                  |\n",
    "| Tableau           | Data visualization tool for creating interactive plots| -                  |\n",
    "| KNIME             | Data analytics, reporting and integration platform    | Java               |\n",
    "| RapidMiner        | Data science platform for predictive analytics        | -                  |\n",
    "| Apache Hadoop     | Distributed storage and processing of big data sets   | Java               |\n",
    "| Apache Spark      | Big data processing framework                         | Scala, Java, Python|\n",
    "| Microsoft Excel   | Spreadsheet tool used for data analysis and visualization | -              |\n",
    "| Google Colab      | Google's free cloud service for machine learning and data science | Python   |\n",
    "| IBM Watson        | Suite of AI tools and applications                    | -                  |"
   ]
  },
  {
   "cell_type": "markdown",
   "metadata": {},
   "source": [
    "7: arithmetic expression examples\n",
    "\n",
    "1 + 4\\\n",
    "5 - 3\\\n",
    "8 / 4\\\n",
    "9 * 4"
   ]
  },
  {
   "cell_type": "code",
   "execution_count": 8,
   "metadata": {},
   "outputs": [
    {
     "name": "stdout",
     "output_type": "stream",
     "text": [
      "15\n",
      "8\n"
     ]
    }
   ],
   "source": [
    "\"8: multiply and add numbers\"\n",
    "print(5 * 3)\n",
    "print(5 + 3)"
   ]
  },
  {
   "cell_type": "code",
   "execution_count": 13,
   "metadata": {},
   "outputs": [
    {
     "name": "stdout",
     "output_type": "stream",
     "text": [
      "1.5\n"
     ]
    }
   ],
   "source": [
    "\"9: Convert minutes to hours\"\n",
    "print(90 / 60)"
   ]
  },
  {
   "cell_type": "markdown",
   "metadata": {},
   "source": [
    "10:Insert a markdown cell to list Objectives. (3 pts)\n",
    "- Objective 1\n",
    "- Objective 2\n",
    "- Objective 3"
   ]
  },
  {
   "cell_type": "markdown",
   "metadata": {},
   "source": [
    "11: Create a markdown cell to indicate the Author’s name.\n",
    "\n",
    "#Author's name : Megumu Takiuchi"
   ]
  },
  {
   "cell_type": "code",
   "execution_count": null,
   "metadata": {},
   "outputs": [],
   "source": []
  }
 ],
 "metadata": {
  "kernelspec": {
   "display_name": "Python 3 (ipykernel)",
   "language": "python",
   "name": "python3"
  },
  "language_info": {
   "codemirror_mode": {
    "name": "ipython",
    "version": 3
   },
   "file_extension": ".py",
   "mimetype": "text/x-python",
   "name": "python",
   "nbconvert_exporter": "python",
   "pygments_lexer": "ipython3",
   "version": "3.8.18"
  },
  "toc": {
   "base_numbering": 1,
   "nav_menu": {},
   "number_sections": true,
   "sideBar": true,
   "skip_h1_title": false,
   "title_cell": "Table of Contents",
   "title_sidebar": "Contents",
   "toc_cell": false,
   "toc_position": {},
   "toc_section_display": true,
   "toc_window_display": false
  },
  "varInspector": {
   "cols": {
    "lenName": 16,
    "lenType": 16,
    "lenVar": 40
   },
   "kernels_config": {
    "python": {
     "delete_cmd_postfix": "",
     "delete_cmd_prefix": "del ",
     "library": "var_list.py",
     "varRefreshCmd": "print(var_dic_list())"
    },
    "r": {
     "delete_cmd_postfix": ") ",
     "delete_cmd_prefix": "rm(",
     "library": "var_list.r",
     "varRefreshCmd": "cat(var_dic_list()) "
    }
   },
   "types_to_exclude": [
    "module",
    "function",
    "builtin_function_or_method",
    "instance",
    "_Feature"
   ],
   "window_display": false
  }
 },
 "nbformat": 4,
 "nbformat_minor": 4
}
